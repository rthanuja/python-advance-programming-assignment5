{
 "cells": [
  {
   "cell_type": "code",
   "execution_count": 1,
   "id": "a94a0702",
   "metadata": {},
   "outputs": [],
   "source": [
    "'''1. Create a function that takes a number n (integer greater than zero) as an argument, and returns 2 if n is odd and 8 if\n",
    "n is even.You can only use the following arithmetic operators: addition of numbers +,subtraction of numbers -,multiplication of\n",
    "number *, division of number /, and exponentiation **. You are not allowed to use any other methods in this challenge \n",
    "(i.e. no if statements, comparison operators, etc).'''\n",
    "def find(n):\n",
    "    a=n/2-n//2\n",
    "    b=1-a\n",
    "    return 2*(1-2*int(b)+int(b))+8*(int(b))\n",
    "    \n"
   ]
  },
  {
   "cell_type": "code",
   "execution_count": 2,
   "id": "77a54e24",
   "metadata": {},
   "outputs": [
    {
     "data": {
      "text/plain": [
       "2"
      ]
     },
     "execution_count": 2,
     "metadata": {},
     "output_type": "execute_result"
    }
   ],
   "source": [
    "find(1)"
   ]
  },
  {
   "cell_type": "code",
   "execution_count": 3,
   "id": "a3f7147b",
   "metadata": {},
   "outputs": [
    {
     "data": {
      "text/plain": [
       "8"
      ]
     },
     "execution_count": 3,
     "metadata": {},
     "output_type": "execute_result"
    }
   ],
   "source": [
    "find(2)"
   ]
  },
  {
   "cell_type": "code",
   "execution_count": 4,
   "id": "72d2fb2e",
   "metadata": {},
   "outputs": [
    {
     "data": {
      "text/plain": [
       "2"
      ]
     },
     "execution_count": 4,
     "metadata": {},
     "output_type": "execute_result"
    }
   ],
   "source": [
    "find(3)"
   ]
  },
  {
   "cell_type": "code",
   "execution_count": 5,
   "id": "538d29bb",
   "metadata": {},
   "outputs": [],
   "source": [
    "'''2. Create a function that returns the majority vote in a list. A majority vote is an element that occurs > N/2\n",
    "times in a list (where N is the length of the list).'''\n",
    "def majority(l):\n",
    "    for i in set(l):\n",
    "        if l.count(i)>(len(l)/2):\n",
    "            return i\n",
    "    return \"None\""
   ]
  },
  {
   "cell_type": "code",
   "execution_count": 6,
   "id": "5f9463c0",
   "metadata": {},
   "outputs": [
    {
     "data": {
      "text/plain": [
       "'A'"
      ]
     },
     "execution_count": 6,
     "metadata": {},
     "output_type": "execute_result"
    }
   ],
   "source": [
    "majority([\"A\",\"A\",\"B\"])"
   ]
  },
  {
   "cell_type": "code",
   "execution_count": 7,
   "id": "7cfd0192",
   "metadata": {},
   "outputs": [
    {
     "data": {
      "text/plain": [
       "'A'"
      ]
     },
     "execution_count": 7,
     "metadata": {},
     "output_type": "execute_result"
    }
   ],
   "source": [
    "majority([\"A\",\"A\",\"A\",\"B\",\"C\",\"A\"])"
   ]
  },
  {
   "cell_type": "code",
   "execution_count": 8,
   "id": "3aefc61d",
   "metadata": {},
   "outputs": [
    {
     "data": {
      "text/plain": [
       "'None'"
      ]
     },
     "execution_count": 8,
     "metadata": {},
     "output_type": "execute_result"
    }
   ],
   "source": [
    "majority([\"A\",\"B\",\"B\",\"A\",\"C\",\"C\"])"
   ]
  },
  {
   "cell_type": "code",
   "execution_count": 9,
   "id": "9bc14275",
   "metadata": {},
   "outputs": [],
   "source": [
    "'''3. Create a function that takes a string txt and censors any word from a given list lst. The text removed must be\n",
    "replaced by the given character char.'''\n",
    "def censorstring(s,l,c):\n",
    "    p=[]    \n",
    "    m=s.split()\n",
    "    for i in m:\n",
    "        k=\"\"\n",
    "        if i in l:\n",
    "            for j in i:\n",
    "                k+=c          \n",
    "            p.append(k)\n",
    "        else:\n",
    "            p.append(i)\n",
    "    return \" \".join(p)"
   ]
  },
  {
   "cell_type": "code",
   "execution_count": 10,
   "id": "f84c1aac",
   "metadata": {},
   "outputs": [
    {
     "data": {
      "text/plain": [
       "'----- is - Wednesday!'"
      ]
     },
     "execution_count": 10,
     "metadata": {},
     "output_type": "execute_result"
    }
   ],
   "source": [
    "censorstring(\"Today is a Wednesday!\",[\"Today\",\"a\"],\"-\")"
   ]
  },
  {
   "cell_type": "code",
   "execution_count": 11,
   "id": "13a98e90",
   "metadata": {},
   "outputs": [
    {
     "data": {
      "text/plain": [
       "'The *** jumped **** the moon.'"
      ]
     },
     "execution_count": 11,
     "metadata": {},
     "output_type": "execute_result"
    }
   ],
   "source": [
    "censorstring(\"The cow jumped over the moon.\",[\"cow\",\"over\"],\"*\")"
   ]
  },
  {
   "cell_type": "code",
   "execution_count": 12,
   "id": "308c2347",
   "metadata": {},
   "outputs": [
    {
     "data": {
      "text/plain": [
       "'Why *** the ******* cross the **** ?'"
      ]
     },
     "execution_count": 12,
     "metadata": {},
     "output_type": "execute_result"
    }
   ],
   "source": [
    "censorstring(\"Why did the chicken cross the road ?\",[\"did\",\"chicken\",\"road\"],\"*\")"
   ]
  },
  {
   "cell_type": "code",
   "execution_count": 13,
   "id": "2a926819",
   "metadata": {},
   "outputs": [],
   "source": [
    "'''4. In mathematics a Polydivisible Number (or magic number) is a number in a given number base with digits abcde... \n",
    "that has the following properties:\n",
    "- Its first digit a is not 0.\n",
    "- The number formed by its first two digits ab is a multiple of 2.\n",
    "- The number formed by its first three digits abc is a multiple of 3.\n",
    "- The number formed by its first four digits abcd is a multiple of 4.\n",
    "Create a function which takes an integer n and returns True if the given number is Polydivisible Number and False otherwise.'''\n",
    "def ispolydivisible(n):\n",
    "    for i in range(len(str(n)),0,-1):\n",
    "        if (n%i==0):\n",
    "            n=(n-(n%(10)))/10\n",
    "            continue\n",
    "        else:\n",
    "            return False\n",
    "    return True "
   ]
  },
  {
   "cell_type": "code",
   "execution_count": 14,
   "id": "e0d0645f",
   "metadata": {},
   "outputs": [
    {
     "data": {
      "text/plain": [
       "True"
      ]
     },
     "execution_count": 14,
     "metadata": {},
     "output_type": "execute_result"
    }
   ],
   "source": [
    "ispolydivisible(1232)"
   ]
  },
  {
   "cell_type": "code",
   "execution_count": 15,
   "id": "b9005a88",
   "metadata": {},
   "outputs": [
    {
     "data": {
      "text/plain": [
       "False"
      ]
     },
     "execution_count": 15,
     "metadata": {},
     "output_type": "execute_result"
    }
   ],
   "source": [
    "ispolydivisible(123220)"
   ]
  },
  {
   "cell_type": "code",
   "execution_count": 16,
   "id": "6385d056",
   "metadata": {},
   "outputs": [],
   "source": [
    "#5. Create a function that takes a list of numbers and returns the sum of all prime numbers in the list.\n",
    "def sumprimes(l):\n",
    "    s=0\n",
    "    if len(l)==0:\n",
    "        return \"None\"\n",
    "    for i in l:\n",
    "        c=1\n",
    "        if i==1:\n",
    "            continue\n",
    "        for j in range(2,(i//2)+1):\n",
    "            if i%j==0:\n",
    "                c=0\n",
    "                break\n",
    "        if c==1:\n",
    "            s+=i\n",
    "    return s"
   ]
  },
  {
   "cell_type": "code",
   "execution_count": 17,
   "id": "253d1928",
   "metadata": {},
   "outputs": [
    {
     "data": {
      "text/plain": [
       "17"
      ]
     },
     "execution_count": 17,
     "metadata": {},
     "output_type": "execute_result"
    }
   ],
   "source": [
    "sumprimes([1,2,3,4,5,6,7,8,9,10])"
   ]
  },
  {
   "cell_type": "code",
   "execution_count": 18,
   "id": "7557c96b",
   "metadata": {},
   "outputs": [
    {
     "data": {
      "text/plain": [
       "87"
      ]
     },
     "execution_count": 18,
     "metadata": {},
     "output_type": "execute_result"
    }
   ],
   "source": [
    "sumprimes([2,3,4,11,20,50,71])"
   ]
  },
  {
   "cell_type": "code",
   "execution_count": 19,
   "id": "f9d601b5",
   "metadata": {},
   "outputs": [
    {
     "data": {
      "text/plain": [
       "'None'"
      ]
     },
     "execution_count": 19,
     "metadata": {},
     "output_type": "execute_result"
    }
   ],
   "source": [
    "sumprimes([])"
   ]
  }
 ],
 "metadata": {
  "kernelspec": {
   "display_name": "Python 3 (ipykernel)",
   "language": "python",
   "name": "python3"
  },
  "language_info": {
   "codemirror_mode": {
    "name": "ipython",
    "version": 3
   },
   "file_extension": ".py",
   "mimetype": "text/x-python",
   "name": "python",
   "nbconvert_exporter": "python",
   "pygments_lexer": "ipython3",
   "version": "3.10.9"
  }
 },
 "nbformat": 4,
 "nbformat_minor": 5
}
